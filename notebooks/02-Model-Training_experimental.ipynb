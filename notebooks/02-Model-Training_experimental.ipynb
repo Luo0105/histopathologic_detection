{
 "cells": [
  {
   "cell_type": "code",
   "execution_count": 1,
   "id": "d1714669",
   "metadata": {},
   "outputs": [
    {
     "name": "stdout",
     "output_type": "stream",
     "text": [
      "Original dataset size: 220025\n",
      "Training set size: 176020\n",
      "Validation set size: 44005\n",
      "\n",
      "✅ DataLoaders created successfully!\n",
      "Each batch will contain 64 images.\n",
      "\n",
      "--- Testing the DataLoader ---\n",
      "Shape of the retrieved images batch: torch.Size([64, 3, 96, 96])\n",
      "Shape of the retrieved labels batch: torch.Size([64])\n",
      "(Image shape [64, 3, 96, 96] means [Batch Size, Channels, Height, Width])\n"
     ]
    }
   ],
   "source": [
    "# ## 1. Preparation: Load Data and Define Dataset Class\n",
    "\n",
    "import torch\n",
    "from torch.utils.data import Dataset, DataLoader\n",
    "from torchvision import transforms\n",
    "from PIL import Image\n",
    "import os\n",
    "import pandas as pd\n",
    "from sklearn.model_selection import train_test_split\n",
    "\n",
    "# --- 1a. Redefine the Dataset Class (copied from the EDA Notebook) ---\n",
    "class CancerDataset(Dataset):\n",
    "    \"\"\"Custom Dataset for histopathologic cancer detection.\"\"\"\n",
    "    def __init__(self, df, data_path, transform=None):\n",
    "        self.df = df\n",
    "        self.data_path = data_path\n",
    "        self.transform = transform\n",
    "        \n",
    "    def __len__(self):\n",
    "        return len(self.df)\n",
    "    \n",
    "    def __getitem__(self, idx):\n",
    "        image_id = self.df.iloc[idx]['id']\n",
    "        label = self.df.iloc[idx]['label']\n",
    "        image_path = os.path.join(self.data_path, 'train', f'{image_id}.tif')\n",
    "        image = Image.open(image_path).convert(\"RGB\")\n",
    "        if self.transform:\n",
    "            image = self.transform(image)\n",
    "        return image, label\n",
    "\n",
    "# --- 1b. Load data and create train/validation splits ---\n",
    "DATA_PATH = 'E:\\data\\histopathologic' # ‼️ Make sure this path is correct\n",
    "df_labels = pd.read_csv(os.path.join(DATA_PATH, 'train_labels.csv'))\n",
    "\n",
    "# To evaluate the model, we need to split our data into a training and a validation set.\n",
    "# stratify=df_labels['label'] ensures that the class distribution is the same in both splits.\n",
    "train_df, val_df = train_test_split(df_labels, test_size=0.2, random_state=42, stratify=df_labels['label'])\n",
    "\n",
    "print(f\"Original dataset size: {len(df_labels)}\")\n",
    "print(f\"Training set size: {len(train_df)}\")\n",
    "print(f\"Validation set size: {len(val_df)}\")\n",
    "\n",
    "# --- 1c. Define Image Transforms ---\n",
    "data_transforms = transforms.Compose([\n",
    "    transforms.ToTensor(),\n",
    "    transforms.Normalize(mean=[0.485, 0.456, 0.406], std=[0.229, 0.224, 0.225])\n",
    "])\n",
    "\n",
    "# --- 1d. Create Dataset instances for training and validation ---\n",
    "train_dataset = CancerDataset(df=train_df, data_path=DATA_PATH, transform=data_transforms)\n",
    "val_dataset = CancerDataset(df=val_df, data_path=DATA_PATH, transform=data_transforms)\n",
    "\n",
    "\n",
    "# ## 2. Create DataLoaders\n",
    "\n",
    "# --- 2a. Define hyperparameters ---\n",
    "BATCH_SIZE = 64 # Number of images to process in a batch\n",
    "\n",
    "# --- 2b. Create DataLoader instances ---\n",
    "# Create a DataLoader for the training set, with shuffling to randomize order each epoch\n",
    "train_loader = DataLoader(train_dataset, batch_size=BATCH_SIZE, shuffle=True, num_workers=0)\n",
    "# Create a DataLoader for the validation set, no need to shuffle\n",
    "val_loader = DataLoader(val_dataset, batch_size=BATCH_SIZE, shuffle=False, num_workers=0)\n",
    "\n",
    "print(f\"\\n✅ DataLoaders created successfully!\")\n",
    "print(f\"Each batch will contain {BATCH_SIZE} images.\")\n",
    "\n",
    "\n",
    "# --- 2c. Test the DataLoader ---\n",
    "print(\"\\n--- Testing the DataLoader ---\")\n",
    "# A DataLoader is an iterator, we can get the first batch using next(iter(...))\n",
    "images_batch, labels_batch = next(iter(train_loader))\n",
    "\n",
    "print(f\"Shape of the retrieved images batch: {images_batch.shape}\")\n",
    "print(f\"Shape of the retrieved labels batch: {labels_batch.shape}\")\n",
    "print(\"(Image shape [64, 3, 96, 96] means [Batch Size, Channels, Height, Width])\")"
   ]
  },
  {
   "cell_type": "code",
   "execution_count": 2,
   "id": "81d08b79",
   "metadata": {},
   "outputs": [
    {
     "name": "stdout",
     "output_type": "stream",
     "text": [
      "✅ SimpleCNN model created successfully!\n",
      "SimpleCNN(\n",
      "  (conv_block1): Sequential(\n",
      "    (0): Conv2d(3, 32, kernel_size=(3, 3), stride=(1, 1), padding=(1, 1))\n",
      "    (1): ReLU()\n",
      "    (2): BatchNorm2d(32, eps=1e-05, momentum=0.1, affine=True, track_running_stats=True)\n",
      "    (3): MaxPool2d(kernel_size=2, stride=2, padding=0, dilation=1, ceil_mode=False)\n",
      "  )\n",
      "  (conv_block2): Sequential(\n",
      "    (0): Conv2d(32, 64, kernel_size=(3, 3), stride=(1, 1), padding=(1, 1))\n",
      "    (1): ReLU()\n",
      "    (2): BatchNorm2d(64, eps=1e-05, momentum=0.1, affine=True, track_running_stats=True)\n",
      "    (3): MaxPool2d(kernel_size=2, stride=2, padding=0, dilation=1, ceil_mode=False)\n",
      "  )\n",
      "  (conv_block3): Sequential(\n",
      "    (0): Conv2d(64, 128, kernel_size=(3, 3), stride=(1, 1), padding=(1, 1))\n",
      "    (1): ReLU()\n",
      "    (2): BatchNorm2d(128, eps=1e-05, momentum=0.1, affine=True, track_running_stats=True)\n",
      "    (3): MaxPool2d(kernel_size=2, stride=2, padding=0, dilation=1, ceil_mode=False)\n",
      "  )\n",
      "  (classifier): Sequential(\n",
      "    (0): Flatten(start_dim=1, end_dim=-1)\n",
      "    (1): Linear(in_features=18432, out_features=256, bias=True)\n",
      "    (2): ReLU()\n",
      "    (3): Dropout(p=0.5, inplace=False)\n",
      "    (4): Linear(in_features=256, out_features=1, bias=True)\n",
      "  )\n",
      ")\n"
     ]
    }
   ],
   "source": [
    "# ## 3. Model Definition\n",
    "\n",
    "import torch\n",
    "import torch.nn as nn\n",
    "import torch.nn.functional as F\n",
    "\n",
    "class SimpleCNN(nn.Module):\n",
    "    \"\"\"A simple CNN for histopathologic image classification.\"\"\"\n",
    "    \n",
    "    def __init__(self):\n",
    "        super(SimpleCNN, self).__init__()\n",
    "        # Input: [Batch Size, 3, 96, 96]\n",
    "        \n",
    "        self.conv_block1 = nn.Sequential(\n",
    "            nn.Conv2d(in_channels=3, out_channels=32, kernel_size=3, padding=1),\n",
    "            nn.ReLU(),\n",
    "            nn.BatchNorm2d(32),\n",
    "            nn.MaxPool2d(kernel_size=2, stride=2) # Output: [Batch Size, 32, 48, 48]\n",
    "        )\n",
    "        \n",
    "        self.conv_block2 = nn.Sequential(\n",
    "            nn.Conv2d(in_channels=32, out_channels=64, kernel_size=3, padding=1),\n",
    "            nn.ReLU(),\n",
    "            nn.BatchNorm2d(64),\n",
    "            nn.MaxPool2d(kernel_size=2, stride=2) # Output: [Batch Size, 64, 24, 24]\n",
    "        )\n",
    "\n",
    "        self.conv_block3 = nn.Sequential(\n",
    "            nn.Conv2d(in_channels=64, out_channels=128, kernel_size=3, padding=1),\n",
    "            nn.ReLU(),\n",
    "            nn.BatchNorm2d(128),\n",
    "            nn.MaxPool2d(kernel_size=2, stride=2) # Output: [Batch Size, 128, 12, 12]\n",
    "        )\n",
    "        \n",
    "        self.classifier = nn.Sequential(\n",
    "            nn.Flatten(),\n",
    "            nn.Linear(128 * 12 * 12, 256), # Input features: 128 channels * 12x12 image size\n",
    "            nn.ReLU(),\n",
    "            nn.Dropout(0.5), # Dropout helps prevent overfitting\n",
    "            nn.Linear(256, 1) # Output a single logit for binary classification\n",
    "        )\n",
    "\n",
    "    def forward(self, x):\n",
    "        \"\"\"Defines the forward pass.\"\"\"\n",
    "        x = self.conv_block1(x)\n",
    "        x = self.conv_block2(x)\n",
    "        x = self.conv_block3(x)\n",
    "        x = self.classifier(x)\n",
    "        return x\n",
    "\n",
    "# Create an instance of the model to make sure it's defined correctly\n",
    "model = SimpleCNN()\n",
    "print(\"✅ SimpleCNN model created successfully!\")\n",
    "print(model)"
   ]
  },
  {
   "cell_type": "code",
   "execution_count": 3,
   "id": "e3147ffc",
   "metadata": {},
   "outputs": [
    {
     "name": "stdout",
     "output_type": "stream",
     "text": [
      "Using device: cuda\n",
      "\n",
      "Loss function defined: BCEWithLogitsLoss\n",
      "Optimizer defined: Adam with learning rate 0.001\n",
      "\n",
      "--- Notebook V2 Part 4 Complete ---\n"
     ]
    }
   ],
   "source": [
    "# ## 4. Define Loss Function and Optimizer\n",
    "\n",
    "import torch\n",
    "import torch.nn as nn\n",
    "import torch.optim as optim\n",
    "\n",
    "# --- 4a. Setup the device (GPU or CPU) ---\n",
    "# This will check if a GPU is available and use it, otherwise it will use the CPU\n",
    "device = torch.device(\"cuda\" if torch.cuda.is_available() else \"cpu\")\n",
    "print(f\"Using device: {device}\")\n",
    "\n",
    "# Move the model to the selected device\n",
    "model = SimpleCNN().to(device)\n",
    "\n",
    "\n",
    "# --- 4b. Define the Loss Function ---\n",
    "# For binary classification with a single logit output, BCEWithLogitsLoss is the best choice.\n",
    "# It's numerically more stable than using a Sigmoid layer + BCELoss.\n",
    "criterion = nn.BCEWithLogitsLoss()\n",
    "print(\"\\nLoss function defined: BCEWithLogitsLoss\")\n",
    "\n",
    "\n",
    "# --- 4c. Define the Optimizer ---\n",
    "# Adam is a great all-purpose optimizer. It adapts the learning rate for each parameter.\n",
    "# We pass the model's parameters to it so it knows what to update.\n",
    "optimizer = optim.Adam(model.parameters(), lr=0.001) # lr is the learning rate\n",
    "print(\"Optimizer defined: Adam with learning rate 0.001\")\n",
    "\n",
    "\n",
    "print(\"\\n--- Notebook V2 Part 4 Complete ---\")"
   ]
  },
  {
   "cell_type": "code",
   "execution_count": 5,
   "id": "be43f55b",
   "metadata": {},
   "outputs": [
    {
     "name": "stderr",
     "output_type": "stream",
     "text": [
      "e:\\anaconda\\envs\\histopathologic\\lib\\site-packages\\tqdm\\auto.py:21: TqdmWarning: IProgress not found. Please update jupyter and ipywidgets. See https://ipywidgets.readthedocs.io/en/stable/user_install.html\n",
      "  from .autonotebook import tqdm as notebook_tqdm\n"
     ]
    },
    {
     "name": "stdout",
     "output_type": "stream",
     "text": [
      "🚀 Starting training...\n"
     ]
    },
    {
     "name": "stderr",
     "output_type": "stream",
     "text": [
      "                                                                         \r"
     ]
    },
    {
     "name": "stdout",
     "output_type": "stream",
     "text": [
      "\n",
      "Epoch 1/5\n",
      "  Train Loss: 0.3409 | Train Acc: 0.8648\n",
      "  Val Loss:   0.2515 | Val Acc:   0.9005\n",
      "------------------------------\n"
     ]
    },
    {
     "name": "stderr",
     "output_type": "stream",
     "text": [
      "                                                                         \r"
     ]
    },
    {
     "name": "stdout",
     "output_type": "stream",
     "text": [
      "\n",
      "Epoch 2/5\n",
      "  Train Loss: 0.2348 | Train Acc: 0.9117\n",
      "  Val Loss:   0.4418 | Val Acc:   0.8770\n",
      "------------------------------\n"
     ]
    },
    {
     "name": "stderr",
     "output_type": "stream",
     "text": [
      "                                                                         \r"
     ]
    },
    {
     "name": "stdout",
     "output_type": "stream",
     "text": [
      "\n",
      "Epoch 3/5\n",
      "  Train Loss: 0.1992 | Train Acc: 0.9253\n",
      "  Val Loss:   0.1948 | Val Acc:   0.9312\n",
      "------------------------------\n"
     ]
    },
    {
     "name": "stderr",
     "output_type": "stream",
     "text": [
      "                                                                         \r"
     ]
    },
    {
     "name": "stdout",
     "output_type": "stream",
     "text": [
      "\n",
      "Epoch 4/5\n",
      "  Train Loss: 0.1759 | Train Acc: 0.9349\n",
      "  Val Loss:   0.1873 | Val Acc:   0.9363\n",
      "------------------------------\n"
     ]
    },
    {
     "name": "stderr",
     "output_type": "stream",
     "text": [
      "                                                                         "
     ]
    },
    {
     "name": "stdout",
     "output_type": "stream",
     "text": [
      "\n",
      "Epoch 5/5\n",
      "  Train Loss: 0.1571 | Train Acc: 0.9424\n",
      "  Val Loss:   0.1687 | Val Acc:   0.9397\n",
      "------------------------------\n",
      "✅ Training complete!\n"
     ]
    },
    {
     "name": "stderr",
     "output_type": "stream",
     "text": [
      "\r"
     ]
    }
   ],
   "source": [
    "# ## 5. Training and Validation Loop\n",
    "\n",
    "import torch\n",
    "from tqdm.auto import tqdm # A library to create smart progress bars\n",
    "import torch.nn.functional as F\n",
    "import numpy as np\n",
    "\n",
    "# --- 5a. Define the training function for one epoch ---\n",
    "\n",
    "def train_one_epoch(model, train_loader, criterion, optimizer, device):\n",
    "    \"\"\"Trains the model for one epoch.\"\"\"\n",
    "    model.train() # Set the model to training mode\n",
    "    \n",
    "    running_loss = 0.0\n",
    "    correct_predictions = 0\n",
    "    total_samples = 0\n",
    "    \n",
    "    # Use tqdm for a nice progress bar\n",
    "    progress_bar = tqdm(train_loader, desc=\"Training\", leave=False)\n",
    "    \n",
    "    for images, labels in progress_bar:\n",
    "        # Move data to the selected device (GPU/CPU)\n",
    "        images = images.to(device)\n",
    "        labels = labels.to(device).float().unsqueeze(1) # Ensure labels are float and have the right shape [batch_size, 1]\n",
    "        \n",
    "        # 1. Forward pass: compute predicted outputs by passing inputs to the model\n",
    "        outputs = model(images)\n",
    "        loss = criterion(outputs, labels)\n",
    "        \n",
    "        # 2. Backward pass and optimization\n",
    "        optimizer.zero_grad() # Clear the gradients of all optimized variables\n",
    "        loss.backward() # Backward pass: compute gradient of the loss with respect to model parameters\n",
    "        optimizer.step() # Perform a single optimization step (parameter update)\n",
    "        \n",
    "        # --- Calculate metrics ---\n",
    "        running_loss += loss.item() * images.size(0)\n",
    "        \n",
    "        # Convert outputs to probabilities and then to predicted classes (0 or 1)\n",
    "        preds = torch.sigmoid(outputs) > 0.5\n",
    "        correct_predictions += (preds == labels).sum().item()\n",
    "        total_samples += labels.size(0)\n",
    "        \n",
    "        # Update progress bar\n",
    "        progress_bar.set_postfix(loss=(running_loss / total_samples))\n",
    "\n",
    "    epoch_loss = running_loss / total_samples\n",
    "    epoch_acc = correct_predictions / total_samples\n",
    "    \n",
    "    return epoch_loss, epoch_acc\n",
    "\n",
    "\n",
    "# --- 5b. Define the validation function ---\n",
    "\n",
    "def validate(model, val_loader, criterion, device):\n",
    "    \"\"\"Evaluates the model on the validation set.\"\"\"\n",
    "    model.eval() # Set the model to evaluation mode\n",
    "    \n",
    "    running_loss = 0.0\n",
    "    correct_predictions = 0\n",
    "    total_samples = 0\n",
    "    \n",
    "    # No need to calculate gradients during validation\n",
    "    with torch.no_grad():\n",
    "        progress_bar = tqdm(val_loader, desc=\"Validation\", leave=False)\n",
    "        for images, labels in progress_bar:\n",
    "            images = images.to(device)\n",
    "            labels = labels.to(device).float().unsqueeze(1)\n",
    "            \n",
    "            outputs = model(images)\n",
    "            loss = criterion(outputs, labels)\n",
    "            \n",
    "            running_loss += loss.item() * images.size(0)\n",
    "            preds = torch.sigmoid(outputs) > 0.5\n",
    "            correct_predictions += (preds == labels).sum().item()\n",
    "            total_samples += labels.size(0)\n",
    "\n",
    "            progress_bar.set_postfix(loss=(running_loss / total_samples))\n",
    "\n",
    "    epoch_loss = running_loss / total_samples\n",
    "    epoch_acc = correct_predictions / total_samples\n",
    "    \n",
    "    return epoch_loss, epoch_acc\n",
    "\n",
    "\n",
    "# --- 5c. The Main Training Loop ---\n",
    "\n",
    "NUM_EPOCHS = 5 # Let's train for 5 epochs for a start\n",
    "\n",
    "# Keep track of training and validation history\n",
    "history = {'train_loss': [], 'train_acc': [], 'val_loss': [], 'val_acc': []}\n",
    "\n",
    "print(\"🚀 Starting training...\")\n",
    "for epoch in range(NUM_EPOCHS):\n",
    "    \n",
    "    # Train the model for one epoch\n",
    "    train_loss, train_acc = train_one_epoch(model, train_loader, criterion, optimizer, device)\n",
    "    \n",
    "    # Validate the model\n",
    "    val_loss, val_acc = validate(model, val_loader, criterion, device)\n",
    "    \n",
    "    # Print statistics for the current epoch\n",
    "    print(f\"\\nEpoch {epoch+1}/{NUM_EPOCHS}\")\n",
    "    print(f\"  Train Loss: {train_loss:.4f} | Train Acc: {train_acc:.4f}\")\n",
    "    print(f\"  Val Loss:   {val_loss:.4f} | Val Acc:   {val_acc:.4f}\")\n",
    "    print(\"-\" * 30)\n",
    "    \n",
    "    # Save history\n",
    "    history['train_loss'].append(train_loss)\n",
    "    history['train_acc'].append(train_acc)\n",
    "    history['val_loss'].append(val_loss)\n",
    "    history['val_acc'].append(val_acc)\n",
    "\n",
    "print(\"✅ Training complete!\")"
   ]
  },
  {
   "cell_type": "code",
   "execution_count": 6,
   "id": "daf153fc",
   "metadata": {},
   "outputs": [
    {
     "name": "stdout",
     "output_type": "stream",
     "text": [
      "Downloading: \"https://download.pytorch.org/models/resnet18-f37072fd.pth\" to C:\\Users\\luo/.cache\\torch\\hub\\checkpoints\\resnet18-f37072fd.pth\n"
     ]
    },
    {
     "name": "stderr",
     "output_type": "stream",
     "text": [
      "100.0%\n"
     ]
    },
    {
     "name": "stdout",
     "output_type": "stream",
     "text": [
      "✅ Pre-trained ResNet18 model loaded.\n",
      "All layers of the pre-trained model have been frozen.\n",
      "The final layer has been replaced with a new one for binary classification.\n",
      "\n",
      "New model and optimizer are ready and moved to cuda.\n",
      "\n",
      "🚀 Starting transfer learning training for 10 epochs...\n"
     ]
    },
    {
     "name": "stderr",
     "output_type": "stream",
     "text": [
      "                                                                         \r"
     ]
    },
    {
     "name": "stdout",
     "output_type": "stream",
     "text": [
      "\n",
      "Epoch 1/10\n",
      "  Train Loss: 0.4084 | Train Acc: 0.8209\n",
      "  Val Loss:   0.3794 | Val Acc:   0.8358\n",
      "------------------------------\n"
     ]
    },
    {
     "name": "stderr",
     "output_type": "stream",
     "text": [
      "                                                                         \r"
     ]
    },
    {
     "name": "stdout",
     "output_type": "stream",
     "text": [
      "\n",
      "Epoch 2/10\n",
      "  Train Loss: 0.3951 | Train Acc: 0.8278\n",
      "  Val Loss:   0.3798 | Val Acc:   0.8350\n",
      "------------------------------\n"
     ]
    },
    {
     "name": "stderr",
     "output_type": "stream",
     "text": [
      "                                                                         \r"
     ]
    },
    {
     "name": "stdout",
     "output_type": "stream",
     "text": [
      "\n",
      "Epoch 3/10\n",
      "  Train Loss: 0.3917 | Train Acc: 0.8295\n",
      "  Val Loss:   0.3792 | Val Acc:   0.8351\n",
      "------------------------------\n"
     ]
    },
    {
     "name": "stderr",
     "output_type": "stream",
     "text": [
      "                                                                         \r"
     ]
    },
    {
     "name": "stdout",
     "output_type": "stream",
     "text": [
      "\n",
      "Epoch 4/10\n",
      "  Train Loss: 0.3906 | Train Acc: 0.8295\n",
      "  Val Loss:   0.4035 | Val Acc:   0.8266\n",
      "------------------------------\n"
     ]
    },
    {
     "name": "stderr",
     "output_type": "stream",
     "text": [
      "                                                                         \r"
     ]
    },
    {
     "name": "stdout",
     "output_type": "stream",
     "text": [
      "\n",
      "Epoch 5/10\n",
      "  Train Loss: 0.3922 | Train Acc: 0.8282\n",
      "  Val Loss:   0.3783 | Val Acc:   0.8369\n",
      "------------------------------\n"
     ]
    },
    {
     "name": "stderr",
     "output_type": "stream",
     "text": [
      "                                                                         \r"
     ]
    },
    {
     "name": "stdout",
     "output_type": "stream",
     "text": [
      "\n",
      "Epoch 6/10\n",
      "  Train Loss: 0.3895 | Train Acc: 0.8304\n",
      "  Val Loss:   0.3728 | Val Acc:   0.8398\n",
      "------------------------------\n"
     ]
    },
    {
     "name": "stderr",
     "output_type": "stream",
     "text": [
      "                                                                         \r"
     ]
    },
    {
     "name": "stdout",
     "output_type": "stream",
     "text": [
      "\n",
      "Epoch 7/10\n",
      "  Train Loss: 0.3900 | Train Acc: 0.8301\n",
      "  Val Loss:   0.3748 | Val Acc:   0.8383\n",
      "------------------------------\n"
     ]
    },
    {
     "name": "stderr",
     "output_type": "stream",
     "text": [
      "                                                                         \r"
     ]
    },
    {
     "name": "stdout",
     "output_type": "stream",
     "text": [
      "\n",
      "Epoch 8/10\n",
      "  Train Loss: 0.3903 | Train Acc: 0.8301\n",
      "  Val Loss:   0.3732 | Val Acc:   0.8378\n",
      "------------------------------\n"
     ]
    },
    {
     "name": "stderr",
     "output_type": "stream",
     "text": [
      "                                                                         \r"
     ]
    },
    {
     "name": "stdout",
     "output_type": "stream",
     "text": [
      "\n",
      "Epoch 9/10\n",
      "  Train Loss: 0.3910 | Train Acc: 0.8294\n",
      "  Val Loss:   0.3730 | Val Acc:   0.8382\n",
      "------------------------------\n"
     ]
    },
    {
     "name": "stderr",
     "output_type": "stream",
     "text": [
      "                                                                         "
     ]
    },
    {
     "name": "stdout",
     "output_type": "stream",
     "text": [
      "\n",
      "Epoch 10/10\n",
      "  Train Loss: 0.3897 | Train Acc: 0.8300\n",
      "  Val Loss:   0.3707 | Val Acc:   0.8395\n",
      "------------------------------\n",
      "✅ V2 model training complete!\n"
     ]
    },
    {
     "name": "stderr",
     "output_type": "stream",
     "text": [
      "\r"
     ]
    }
   ],
   "source": [
    "# ## 6. V2 Model: Transfer Learning with ResNet18\n",
    "\n",
    "import torchvision.models as models\n",
    "import torch.nn as nn\n",
    "import torch.optim as optim\n",
    "from tqdm.auto import tqdm\n",
    "import numpy as np\n",
    "\n",
    "# --- 6a. Load a pre-trained ResNet18 model ---\n",
    "# We use the modern 'weights' argument to get the recommended ImageNet pre-trained weights\n",
    "model_v2 = models.resnet18(weights=models.ResNet18_Weights.IMAGENET1K_V1)\n",
    "\n",
    "print(\"✅ Pre-trained ResNet18 model loaded.\")\n",
    "\n",
    "\n",
    "# --- 6b. Freeze the convolutional base ---\n",
    "# We freeze the weights of all layers in the pre-trained model.\n",
    "# This means their weights will not be updated during training.\n",
    "for param in model_v2.parameters():\n",
    "    param.requires_grad = False\n",
    "    \n",
    "print(\"All layers of the pre-trained model have been frozen.\")\n",
    "\n",
    "\n",
    "# --- 6c. Replace the final layer (the \"head\") ---\n",
    "# The original ResNet18 has a final fully connected layer ('fc') that outputs 1000 classes.\n",
    "# We need to replace it with a new layer that outputs 1 logit for our binary task.\n",
    "\n",
    "# Get the number of input features for the classifier\n",
    "num_ftrs = model_v2.fc.in_features\n",
    "\n",
    "# Replace the final layer\n",
    "model_v2.fc = nn.Linear(num_ftrs, 1)\n",
    "\n",
    "print(\"The final layer has been replaced with a new one for binary classification.\")\n",
    "\n",
    "\n",
    "# --- 6d. Move model to device and create a new optimizer ---\n",
    "# We need to do this again for our new model\n",
    "device = torch.device(\"cuda\" if torch.cuda.is_available() else \"cpu\")\n",
    "model_v2.to(device)\n",
    "\n",
    "# Create a new optimizer that will ONLY update the parameters of our new final layer\n",
    "# All other layers are frozen, so we don't need to pass them to the optimizer\n",
    "optimizer_v2 = optim.Adam(model_v2.fc.parameters(), lr=0.001)\n",
    "\n",
    "print(f\"\\nNew model and optimizer are ready and moved to {device}.\")\n",
    "\n",
    "\n",
    "# --- 6e. Run the training and validation loop ---\n",
    "# We reuse our existing train_one_epoch and validate functions\n",
    "NUM_EPOCHS_V2 = 10 # Train for more epochs as requested\n",
    "history_v2 = {'train_loss': [], 'train_acc': [], 'val_loss': [], 'val_acc': []}\n",
    "\n",
    "print(f\"\\n🚀 Starting transfer learning training for {NUM_EPOCHS_V2} epochs...\")\n",
    "for epoch in range(NUM_EPOCHS_V2):\n",
    "    \n",
    "    # Train the model for one epoch\n",
    "    train_loss, train_acc = train_one_epoch(model_v2, train_loader, criterion, optimizer_v2, device)\n",
    "    \n",
    "    # Validate the model\n",
    "    val_loss, val_acc = validate(model_v2, val_loader, criterion, device)\n",
    "    \n",
    "    # Print statistics\n",
    "    print(f\"\\nEpoch {epoch+1}/{NUM_EPOCHS_V2}\")\n",
    "    print(f\"  Train Loss: {train_loss:.4f} | Train Acc: {train_acc:.4f}\")\n",
    "    print(f\"  Val Loss:   {val_loss:.4f} | Val Acc:   {val_acc:.4f}\")\n",
    "    print(\"-\" * 30)\n",
    "    \n",
    "    # Save history\n",
    "    history_v2['train_loss'].append(train_loss)\n",
    "    history_v2['train_acc'].append(train_acc)\n",
    "    history_v2['val_loss'].append(val_loss)\n",
    "    history_v2['val_acc'].append(val_acc)\n",
    "\n",
    "print(\"✅ V2 model training complete!\")"
   ]
  },
  {
   "cell_type": "code",
   "execution_count": 7,
   "id": "9250ea63",
   "metadata": {},
   "outputs": [
    {
     "name": "stdout",
     "output_type": "stream",
     "text": [
      "All layers of the model have been unfrozen.\n",
      "\n",
      "New model for fine-tuning and new optimizer are ready.\n",
      "\n",
      "🚀 Starting full fine-tuning for 10 epochs...\n"
     ]
    },
    {
     "name": "stderr",
     "output_type": "stream",
     "text": [
      "                                                                         \r"
     ]
    },
    {
     "name": "stdout",
     "output_type": "stream",
     "text": [
      "\n",
      "Epoch 1/10\n",
      "  Train Loss: 0.1860 | Train Acc: 0.9292\n",
      "  Val Loss:   0.1240 | Val Acc:   0.9550\n",
      "------------------------------\n"
     ]
    },
    {
     "name": "stderr",
     "output_type": "stream",
     "text": [
      "                                                                         \r"
     ]
    },
    {
     "name": "stdout",
     "output_type": "stream",
     "text": [
      "\n",
      "Epoch 2/10\n",
      "  Train Loss: 0.1033 | Train Acc: 0.9631\n",
      "  Val Loss:   0.1043 | Val Acc:   0.9625\n",
      "------------------------------\n"
     ]
    },
    {
     "name": "stderr",
     "output_type": "stream",
     "text": [
      "                                                                          \r"
     ]
    },
    {
     "name": "stdout",
     "output_type": "stream",
     "text": [
      "\n",
      "Epoch 3/10\n",
      "  Train Loss: 0.0660 | Train Acc: 0.9767\n",
      "  Val Loss:   0.1148 | Val Acc:   0.9598\n",
      "------------------------------\n"
     ]
    },
    {
     "name": "stderr",
     "output_type": "stream",
     "text": [
      "                                                                          \r"
     ]
    },
    {
     "name": "stdout",
     "output_type": "stream",
     "text": [
      "\n",
      "Epoch 4/10\n",
      "  Train Loss: 0.0433 | Train Acc: 0.9845\n",
      "  Val Loss:   0.1404 | Val Acc:   0.9582\n",
      "------------------------------\n"
     ]
    },
    {
     "name": "stderr",
     "output_type": "stream",
     "text": [
      "                                                                          \r"
     ]
    },
    {
     "name": "stdout",
     "output_type": "stream",
     "text": [
      "\n",
      "Epoch 5/10\n",
      "  Train Loss: 0.0323 | Train Acc: 0.9886\n",
      "  Val Loss:   0.1448 | Val Acc:   0.9574\n",
      "------------------------------\n"
     ]
    },
    {
     "name": "stderr",
     "output_type": "stream",
     "text": [
      "                                                                          \r"
     ]
    },
    {
     "name": "stdout",
     "output_type": "stream",
     "text": [
      "\n",
      "Epoch 6/10\n",
      "  Train Loss: 0.0267 | Train Acc: 0.9905\n",
      "  Val Loss:   0.1245 | Val Acc:   0.9647\n",
      "------------------------------\n"
     ]
    },
    {
     "name": "stderr",
     "output_type": "stream",
     "text": [
      "                                                                          \r"
     ]
    },
    {
     "name": "stdout",
     "output_type": "stream",
     "text": [
      "\n",
      "Epoch 7/10\n",
      "  Train Loss: 0.0224 | Train Acc: 0.9924\n",
      "  Val Loss:   0.1256 | Val Acc:   0.9660\n",
      "------------------------------\n"
     ]
    },
    {
     "name": "stderr",
     "output_type": "stream",
     "text": [
      "                                                                          \r"
     ]
    },
    {
     "name": "stdout",
     "output_type": "stream",
     "text": [
      "\n",
      "Epoch 8/10\n",
      "  Train Loss: 0.0191 | Train Acc: 0.9933\n",
      "  Val Loss:   0.1492 | Val Acc:   0.9659\n",
      "------------------------------\n"
     ]
    },
    {
     "name": "stderr",
     "output_type": "stream",
     "text": [
      "                                                                          \r"
     ]
    },
    {
     "name": "stdout",
     "output_type": "stream",
     "text": [
      "\n",
      "Epoch 9/10\n",
      "  Train Loss: 0.0169 | Train Acc: 0.9940\n",
      "  Val Loss:   0.1432 | Val Acc:   0.9663\n",
      "------------------------------\n"
     ]
    },
    {
     "name": "stderr",
     "output_type": "stream",
     "text": [
      "                                                                          "
     ]
    },
    {
     "name": "stdout",
     "output_type": "stream",
     "text": [
      "\n",
      "Epoch 10/10\n",
      "  Train Loss: 0.0163 | Train Acc: 0.9942\n",
      "  Val Loss:   0.1444 | Val Acc:   0.9660\n",
      "------------------------------\n",
      "✅ V3 model fine-tuning complete!\n"
     ]
    },
    {
     "name": "stderr",
     "output_type": "stream",
     "text": [
      "\r"
     ]
    }
   ],
   "source": [
    "# ## 7. V3 Model: Full Fine-tuning with ResNet18\n",
    "\n",
    "import torchvision.models as models\n",
    "import torch.nn as nn\n",
    "import torch.optim as optim\n",
    "from tqdm.auto import tqdm\n",
    "import numpy as np\n",
    "\n",
    "# --- 7a. Load the pre-trained ResNet18 model again ---\n",
    "model_v3 = models.resnet18(weights=models.ResNet18_Weights.IMAGENET1K_V1)\n",
    "\n",
    "# --- 7b. Replace the final layer (same as before) ---\n",
    "num_ftrs = model_v3.fc.in_features\n",
    "model_v3.fc = nn.Linear(num_ftrs, 1)\n",
    "\n",
    "# --- 7c. 【KEY CHANGE】Unfreeze all layers ---\n",
    "# We set requires_grad = True for all parameters to unfreeze them.\n",
    "for param in model_v3.parameters():\n",
    "    param.requires_grad = True\n",
    "\n",
    "print(\"All layers of the model have been unfrozen.\")\n",
    "\n",
    "# --- 7d. Move model to device and create a new optimizer ---\n",
    "device = torch.device(\"cuda\" if torch.cuda.is_available() else \"cpu\")\n",
    "model_v3.to(device)\n",
    "\n",
    "# Create a new optimizer that will train ALL parameters, but with a smaller learning rate.\n",
    "# A small learning rate is crucial for fine-tuning to avoid destroying the pre-trained weights.\n",
    "optimizer_v3 = optim.Adam(model_v3.parameters(), lr=1e-4) # Using a much smaller learning rate: 0.0001\n",
    "\n",
    "print(f\"\\nNew model for fine-tuning and new optimizer are ready.\")\n",
    "\n",
    "\n",
    "# --- 7e. Run the training and validation loop ---\n",
    "NUM_EPOCHS_V3 = 10 \n",
    "history_v3 = {'train_loss': [], 'train_acc': [], 'val_loss': [], 'val_acc': []}\n",
    "\n",
    "print(f\"\\n🚀 Starting full fine-tuning for {NUM_EPOCHS_V3} epochs...\")\n",
    "# We can reuse our train_one_epoch and validate functions\n",
    "for epoch in range(NUM_EPOCHS_V3):\n",
    "    train_loss, train_acc = train_one_epoch(model_v3, train_loader, criterion, optimizer_v3, device)\n",
    "    val_loss, val_acc = validate(model_v3, val_loader, criterion, device)\n",
    "    \n",
    "    print(f\"\\nEpoch {epoch+1}/{NUM_EPOCHS_V3}\")\n",
    "    print(f\"  Train Loss: {train_loss:.4f} | Train Acc: {train_acc:.4f}\")\n",
    "    print(f\"  Val Loss:   {val_loss:.4f} | Val Acc:   {val_acc:.4f}\")\n",
    "    print(\"-\" * 30)\n",
    "    \n",
    "    history_v3['train_loss'].append(train_loss)\n",
    "    # ... (saving history)\n",
    "\n",
    "print(\"✅ V3 model fine-tuning complete!\")"
   ]
  }
 ],
 "metadata": {
  "kernelspec": {
   "display_name": "histopathologic",
   "language": "python",
   "name": "python3"
  },
  "language_info": {
   "codemirror_mode": {
    "name": "ipython",
    "version": 3
   },
   "file_extension": ".py",
   "mimetype": "text/x-python",
   "name": "python",
   "nbconvert_exporter": "python",
   "pygments_lexer": "ipython3",
   "version": "3.9.23"
  }
 },
 "nbformat": 4,
 "nbformat_minor": 5
}
