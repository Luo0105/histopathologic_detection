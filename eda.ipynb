{
 "cells": [
  {
   "cell_type": "code",
   "execution_count": 1,
   "id": "1fa88346",
   "metadata": {},
   "outputs": [
    {
     "ename": "ModuleNotFoundError",
     "evalue": "No module named 'pandas'",
     "output_type": "error",
     "traceback": [
      "\u001b[1;31m---------------------------------------------------------------------------\u001b[0m",
      "\u001b[1;31mModuleNotFoundError\u001b[0m                       Traceback (most recent call last)",
      "Cell \u001b[1;32mIn[1], line 3\u001b[0m\n\u001b[0;32m      1\u001b[0m \u001b[38;5;66;03m# ## 1. 探索性数据分析 (EDA) - 加载并分析标签\u001b[39;00m\n\u001b[1;32m----> 3\u001b[0m \u001b[38;5;28;01mimport\u001b[39;00m\u001b[38;5;250m \u001b[39m\u001b[38;5;21;01mpandas\u001b[39;00m\u001b[38;5;250m \u001b[39m\u001b[38;5;28;01mas\u001b[39;00m\u001b[38;5;250m \u001b[39m\u001b[38;5;21;01mpd\u001b[39;00m\n\u001b[0;32m      4\u001b[0m \u001b[38;5;28;01mimport\u001b[39;00m\u001b[38;5;250m \u001b[39m\u001b[38;5;21;01mos\u001b[39;00m\n\u001b[0;32m      5\u001b[0m \u001b[38;5;28;01mimport\u001b[39;00m\u001b[38;5;250m \u001b[39m\u001b[38;5;21;01mmatplotlib\u001b[39;00m\u001b[38;5;21;01m.\u001b[39;00m\u001b[38;5;21;01mpyplot\u001b[39;00m\u001b[38;5;250m \u001b[39m\u001b[38;5;28;01mas\u001b[39;00m\u001b[38;5;250m \u001b[39m\u001b[38;5;21;01mplt\u001b[39;00m\n",
      "\u001b[1;31mModuleNotFoundError\u001b[0m: No module named 'pandas'"
     ]
    }
   ],
   "source": [
    "# ## 1. 探索性数据分析 (EDA) - 加载并分析标签\n",
    "\n",
    "import pandas as pd\n",
    "import os\n",
    "import matplotlib.pyplot as plt\n",
    "import seaborn as sns\n",
    "\n",
    "# --- ‼️ 请修改为你的数据存放路径 ---\n",
    "# 这是存放 histopathologic-cancer-detection 文件夹的路径\n",
    "# 例如: 'E:/KaggleData/histopathologic-cancer-detection/'\n",
    "DATA_PATH = 'E:\\data\\histopathologic'\n",
    "# ------------------------------------\n",
    "\n",
    "# 构建标签文件的完整路径\n",
    "labels_path = os.path.join(DATA_PATH, 'train_labels.csv')\n",
    "\n",
    "try:\n",
    "    # 加载标签文件\n",
    "    df_labels = pd.read_csv(labels_path)\n",
    "\n",
    "    # --- 开始分析 ---\n",
    "    print(\"--- 标签文件概览 ---\")\n",
    "    # 查看基本信息：总共有多少行？有没有缺失值？\n",
    "    df_labels.info()\n",
    "\n",
    "    print(\"\\n--- 文件前5行 ---\")\n",
    "    print(df_labels.head())\n",
    "\n",
    "    # 查看类别分布：癌症样本(1)和非癌症样本(0)各有多少？\n",
    "    print(\"\\n--- 标签分布情况 ---\")\n",
    "    label_counts = df_labels['label'].value_counts()\n",
    "    print(label_counts)\n",
    "\n",
    "    # 可视化类别分布\n",
    "    print(\"\\n正在生成分布图...\")\n",
    "    plt.figure(figsize=(8, 6))\n",
    "    sns.countplot(x='label', data=df_labels)\n",
    "    plt.title('Class Distribution (0 = No Cancer, 1 = Cancer)', fontsize=16)\n",
    "    plt.xlabel('Label', fontsize=12)\n",
    "    plt.ylabel('Count', fontsize=12)\n",
    "    # 在条形图上显示具体数量\n",
    "    plt.text(0, label_counts[0]/2, label_counts[0], ha='center', color='white', weight='bold')\n",
    "    plt.text(1, label_counts[1]/2, label_counts[1], ha='center', color='white', weight='bold')\n",
    "    plt.show()\n",
    "\n",
    "except FileNotFoundError:\n",
    "    print(f\"‼️ 错误：无法在以下路径找到文件: {labels_path}\")\n",
    "    print(\"请确认你的 DATA_PATH 设置是否正确。\")"
   ]
  }
 ],
 "metadata": {
  "kernelspec": {
   "display_name": "histopathologic",
   "language": "python",
   "name": "python3"
  },
  "language_info": {
   "codemirror_mode": {
    "name": "ipython",
    "version": 3
   },
   "file_extension": ".py",
   "mimetype": "text/x-python",
   "name": "python",
   "nbconvert_exporter": "python",
   "pygments_lexer": "ipython3",
   "version": "3.9.23"
  }
 },
 "nbformat": 4,
 "nbformat_minor": 5
}
